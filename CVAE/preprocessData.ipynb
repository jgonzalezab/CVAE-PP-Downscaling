{
 "cells": [
  {
   "cell_type": "markdown",
   "id": "60e4532c",
   "metadata": {},
   "source": [
    "# On the use of Deep Generative Models for \"Perfect\" Prognosis Climate Downscaling"
   ]
  },
  {
   "cell_type": "markdown",
   "id": "86da5457",
   "metadata": {},
   "source": [
    "This notebook performs the download and preprocessing of the data required by the CVAE model. This part of the analysis is written in R and builds on the [climate4R](https://github.com/SantanderMetGroup/climate4R) framework"
   ]
  },
  {
   "cell_type": "markdown",
   "id": "7431d4ba",
   "metadata": {},
   "source": [
    "First we load the required R libraries"
   ]
  },
  {
   "cell_type": "code",
   "execution_count": 2,
   "id": "61fb306e",
   "metadata": {},
   "outputs": [],
   "source": [
    "library(loadeR)\n",
    "library(transformeR)\n",
    "library(downscaleR)\n",
    "library(climate4R.value)\n",
    "library(magrittr)\n",
    "library(sp)\n",
    "library(downscaleR.keras)\n",
    "library(loadeR.2nc)"
   ]
  },
  {
   "cell_type": "markdown",
   "id": "eb993f11",
   "metadata": {},
   "source": [
    "These datasets are downloaded from the [User Data Getaway - Thredds Access Portal (UDG-TAP)](http://meteo.unican.es/udg-tap/home) maintained by the Santander Meteorology Group. An user may be needed."
   ]
  },
  {
   "cell_type": "code",
   "execution_count": null,
   "id": "e2bb1cb8",
   "metadata": {},
   "outputs": [],
   "source": [
    "loginUDG('***', '***')"
   ]
  },
  {
   "cell_type": "markdown",
   "id": "558ba60d",
   "metadata": {},
   "source": [
    "Set the spatial and time boundaries"
   ]
  },
  {
   "cell_type": "code",
   "execution_count": 3,
   "id": "e1d1c3ed",
   "metadata": {},
   "outputs": [],
   "source": [
    "longitude <- c(-10, 32)\n",
    "latitude <- c(36, 72)\n",
    "time <- 1979:2008"
   ]
  },
  {
   "cell_type": "markdown",
   "id": "0588201f",
   "metadata": {},
   "source": [
    "Select the variables to use as predictors"
   ]
  },
  {
   "cell_type": "code",
   "execution_count": 4,
   "id": "bab00a09",
   "metadata": {},
   "outputs": [],
   "source": [
    "variables <- c('z@500','z@700','z@850','z@1000',\n",
    "               'hus@500','hus@700','hus@850','hus@1000',\n",
    "               'ta@500','ta@700','ta@850','ta@1000',\n",
    "               'ua@500','ua@700','ua@850','ua@1000',\n",
    "               'va@500','va@700','va@850','va@1000')"
   ]
  },
  {
   "cell_type": "markdown",
   "id": "3d597942",
   "metadata": {},
   "source": [
    "Download the predictor (ERA-Interim)"
   ]
  },
  {
   "cell_type": "code",
   "execution_count": 7,
   "id": "21b19503",
   "metadata": {},
   "outputs": [],
   "source": [
    "x <- lapply(variables, function(x) {\n",
    "                loadGridData(dataset = 'ECMWF_ERA-Interim-ESD',\n",
    "                     var = x,\n",
    "                     lonLim = longitude,\n",
    "                     latLim = latitude,\n",
    "                     years = time)\n",
    "      }) %>% makeMultiGrid()\n",
    "\n",
    "save(x, file = paste0('./data/x.rda'))"
   ]
  },
  {
   "cell_type": "markdown",
   "id": "201162b4",
   "metadata": {},
   "source": [
    "Download the predictand (E-OBS)"
   ]
  },
  {
   "cell_type": "code",
   "execution_count": 8,
   "id": "058e4651",
   "metadata": {},
   "outputs": [],
   "source": [
    "y <- loadGridData(dataset = 'E-OBS_v14_0.50regular',\n",
    "                  var = 'pr',\n",
    "                  lonLim = longitude,\n",
    "                  latLim = latitude,\n",
    "                  years = time)\n",
    "\n",
    "save(y, file = paste0('./data/y.rda'))"
   ]
  },
  {
   "cell_type": "markdown",
   "id": "33b4fa3d",
   "metadata": {},
   "source": [
    "Split both datasets into train and test sets"
   ]
  },
  {
   "cell_type": "code",
   "execution_count": 9,
   "id": "0ab22dfd",
   "metadata": {},
   "outputs": [],
   "source": [
    "years_train <- 1979:2002\n",
    "years_test <- 2003:2008\n",
    "\n",
    "x_train <- subsetGrid(x, years = years_train)\n",
    "y_train <- subsetGrid(y, years = years_train)\n",
    "\n",
    "x_test <- subsetGrid(x, years = years_test)\n",
    "y_test <- subsetGrid(y, years = years_test)\n",
    "\n",
    "rm(x); rm(y)"
   ]
  },
  {
   "cell_type": "markdown",
   "id": "be2bda80",
   "metadata": {},
   "source": [
    "Standardize the predictors"
   ]
  },
  {
   "cell_type": "code",
   "execution_count": 12,
   "id": "6ce28057",
   "metadata": {},
   "outputs": [],
   "source": [
    "x_test <- scaleGrid(x_test, base = x_train, type = 'standardize')\n",
    "x_train <- scaleGrid(x_train, type = 'standardize')"
   ]
  },
  {
   "cell_type": "markdown",
   "id": "b230fc74",
   "metadata": {},
   "source": [
    "Rearrange the predictors' dimensions for Pytorch"
   ]
  },
  {
   "cell_type": "code",
   "execution_count": 13,
   "id": "142dc45f",
   "metadata": {},
   "outputs": [],
   "source": [
    "x_train <- redim(x_train, drop = TRUE)\n",
    "x_train$Data <- aperm(x_train$Data, c(2, 1, 3, 4))\n",
    "x_train <- x_train$Data\n",
    "\n",
    "x_test <- redim(x_test, drop = TRUE)\n",
    "x_test$Data <- aperm(x_test$Data, c(2, 1, 3, 4))\n",
    "x_test <- x_test$Data"
   ]
  },
  {
   "cell_type": "markdown",
   "id": "3b529d58",
   "metadata": {},
   "source": [
    "Format the predictand to Python"
   ]
  },
  {
   "cell_type": "code",
   "execution_count": 14,
   "id": "0ef0e5a7",
   "metadata": {},
   "outputs": [],
   "source": [
    "y_train$Data <- array3Dto2Dmat(y_train$Data)\n",
    "ind_nonNaN <- (!apply(y_train$Data, MARGIN = 2, anyNA)) %>% which()\n",
    "y_train <- y_train$Data[, ind_nonNaN]"
   ]
  },
  {
   "cell_type": "markdown",
   "id": "e06728c0",
   "metadata": {},
   "source": [
    "Save the processed data, including information about the `NaNs` present in the data"
   ]
  },
  {
   "cell_type": "code",
   "execution_count": 15,
   "id": "e9d1bbef",
   "metadata": {},
   "outputs": [],
   "source": [
    "save(y_test, file = './data/y_test_template.RData')\n",
    "y_test$Data <- array3Dto2Dmat(y_test$Data)\n",
    "y_test <- y_test$Data\n",
    "\n",
    "save(x_train, file = './data/x_train.RData')\n",
    "save(x_test, file = './data/x_test.RData')\n",
    "save(y_train, file = './data/y_train.RData')\n",
    "save(y_test, file = './data/y_test.RData')\n",
    "\n",
    "save(ind_nonNaN, file = './data/ind_nonNaN.RData')"
   ]
  }
 ],
 "metadata": {
  "kernelspec": {
   "display_name": "R",
   "language": "R",
   "name": "ir"
  },
  "language_info": {
   "codemirror_mode": "r",
   "file_extension": ".r",
   "mimetype": "text/x-r-source",
   "name": "R",
   "pygments_lexer": "r",
   "version": "3.6.3"
  }
 },
 "nbformat": 4,
 "nbformat_minor": 5
}
